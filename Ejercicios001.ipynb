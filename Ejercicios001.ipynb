
{
 "cells": [
  {
   "cell_type": "code",
   "execution_count": 3,
   "metadata": {},
   "outputs": [
    {
     "name": "stdout",
     "output_type": "stream",
     "text": [
      "Ingrese numeros separados por comas:1,2,3,d,f,4*g,78*a/g,3,5\n",
      "['1', '2', '3', 'd', 'f', '4*g', '78*a/g', '3', '5']\n",
      "('1', '2', '3', 'd', 'f', '4*g', '78*a/g', '3', '5')\n"
     ]
    }
   ],
   "source": [
    "# CUAL ES LA SALIDA SI INGRESO 1,2,A,D / F,3,4\n",
    "# O SE GENERA UN ERROR\n",
    "values=input(\"Ingrese numeros separados por comas:\")\n",
    "l=values.split(\",\")\n",
    "t=tuple(l)\n",
    "print(l)\n",
    "print(t)"
   ]
  },
  {
   "cell_type": "code",
   "execution_count": 5,
   "metadata": {},
   "outputs": [
    {
     "name": "stdout",
     "output_type": "stream",
     "text": [
      "112,119,126,133,147\n"
     ]
    }
   ],
   "source": [
    "# CUAL ES LA SALIDA\n",
    "l=[]\n",
    "for i in range(100,150):\n",
    "    if(i%7==0) and (i%5!=0):\n",
    "        l.append(str(i))\n",
    "t=','.join(l)\n",
    "print(t)\n"
   ]
  },
  {
   "cell_type": "code",
   "execution_count": 7,
   "metadata": {},
   "outputs": [
    {
     "name": "stdout",
     "output_type": "stream",
     "text": [
      "es una prueba fácil\n"
     ]
    },
    {
     "ename": "ValueError",
     "evalue": "invalid literal for int() with base 10: 'es una prueba fácil'",
     "output_type": "error",
     "traceback": [
      "\u001b[1;31m---------------------------------------------------------------------------\u001b[0m",
      "\u001b[1;31mValueError\u001b[0m                                Traceback (most recent call last)",
      "\u001b[1;32m<ipython-input-7-3095bfbc9d25>\u001b[0m in \u001b[0;36m<module>\u001b[1;34m()\u001b[0m\n\u001b[0;32m      5\u001b[0m     \u001b[1;32mreturn\u001b[0m \u001b[0mx\u001b[0m \u001b[1;33m*\u001b[0m \u001b[0mfact\u001b[0m\u001b[1;33m(\u001b[0m\u001b[0mx\u001b[0m\u001b[1;33m-\u001b[0m\u001b[1;36m1\u001b[0m\u001b[1;33m)\u001b[0m\u001b[1;33m\u001b[0m\u001b[0m\n\u001b[0;32m      6\u001b[0m \u001b[1;33m\u001b[0m\u001b[0m\n\u001b[1;32m----> 7\u001b[1;33m \u001b[0mx\u001b[0m\u001b[1;33m=\u001b[0m\u001b[0mint\u001b[0m\u001b[1;33m(\u001b[0m\u001b[0minput\u001b[0m\u001b[1;33m(\u001b[0m\u001b[1;33m)\u001b[0m\u001b[1;33m)\u001b[0m\u001b[1;33m\u001b[0m\u001b[0m\n\u001b[0m\u001b[0;32m      8\u001b[0m \u001b[0mprint\u001b[0m\u001b[1;33m(\u001b[0m\u001b[0mfact\u001b[0m\u001b[1;33m(\u001b[0m\u001b[0mx\u001b[0m\u001b[1;33m)\u001b[0m\u001b[1;33m)\u001b[0m\u001b[1;33m\u001b[0m\u001b[0m\n",
      "\u001b[1;31mValueError\u001b[0m: invalid literal for int() with base 10: 'es una prueba fácil'"
     ]
    }
   ],
   "source": [
    "# CORRIJA EL PROGRAMA PARA QUE FUNCIONE\n",
    "def fact(x):\n",
    "    if x==0 or x==1:\n",
    "        return 1\n",
    "    return x * fact(x-1)\n",
    "\n",
    "x=int(input())\n",
    "print(fact(x))\n"
   ]
  },
  {
   "cell_type": "code",
   "execution_count": 8,
   "metadata": {},
   "outputs": [
    {
     "name": "stdout",
     "output_type": "stream",
     "text": [
      "es una prueba fácil\n",
      "ES UNA PRUEBA FÁCIL\n"
     ]
    }
   ],
   "source": [
    "# CUAL ES LA SALIDA DEL PROGRAMA\n",
    "# SI TIENE ERRORES CORRIJALOS\n",
    "class InputOutString(object):\n",
    "    def __init__(self):\n",
    "        self.s = \"\"\n",
    "    def getString(self):\n",
    "        self.s = input()\n",
    "        # t = self.s\n",
    "    def printString(self):\n",
    "        # l = t.upper()\n",
    "        print(self.s.upper())\n",
    "        # print(l)\n",
    "\n",
    "strObj = InputOutString()\n",
    "strObj.getString()\n",
    "strObj.printString()"
   ]
  },
  {
   "cell_type": "code",
   "execution_count": 9,
   "metadata": {},
   "outputs": [
    {
     "name": "stdout",
     "output_type": "stream",
     "text": [
      "Ingrese el valor de m --> 10\n",
      "Serei de Fibonacci de  10 :\n",
      "0 , 1 , 1 , 2 , 3 , 5 , 8 , 13 , 21 , 34 , 55\n"
     ]
    }
   ],
   "source": [
    "# CORRIJA EL PROGRAMA\n",
    "nterms = int(input(\"Ingrese el valor de m --> \"))\n",
    "n1=0\n",
    "n2=1\n",
    "count=0\n",
    "if nterms <=0:\n",
    "    print(\"Por favor ingrese un entero positivo\")\n",
    "elif nterms == 1:\n",
    "    print(\"Serei de Fibonacci de \", nterms,\":\", n1)\n",
    "    print(n1)\n",
    "else:\n",
    "     print(\"Serei de Fibonacci de \", nterms,\":\")\n",
    "     while count <= nterms:\n",
    "        if count == nterms:\n",
    "            print(n1)\n",
    "            count +=1\n",
    "        else:\n",
    "            print(n1, end=' , ')\n",
    "            nth = n1 + n2\n",
    "            n1=n2\n",
    "            n2=nth\n",
    "            count +=1\n",
    "     "
   ]
  },
  {
   "cell_type": "code",
   "execution_count": 6,
   "metadata": {},
   "outputs": [
    {
     "name": "stdout",
     "output_type": "stream",
     "text": [
      "[12, 24, 35, 88, 120, 155]\n"
     ]
    }
   ],
   "source": [
    "# QUE HACE EL SIGUIENTE PROGRAMA\n",
    "# MUESTRE LA SALIDA\n",
    "def hacealgo(li):\n",
    "    newli=[]\n",
    "    seen = set()\n",
    "    for item in li:\n",
    "        if item not in seen:\n",
    "            seen.add(item)\n",
    "            newli.append(item)\n",
    "    return newli\n",
    "\n",
    "li=[12,24,35,24,88,120,155,88,120,155]\n",
    "print(hacealgo(li))\n"
   ]
  },
  {
   "cell_type": "code",
   "execution_count": 13,
   "metadata": {},
   "outputs": [
    {
     "name": "stdout",
     "output_type": "stream",
     "text": [
      "Ingrese un valor entero:5\n",
      "    *\n",
      "   ***\n",
      "  *****\n",
      " *******\n",
      "*********\n",
      " *******\n",
      "  *****\n",
      "   ***\n",
      "    *\n",
      "    *\n",
      "   ***\n",
      "  *****\n",
      " *******\n",
      "*********\n"
     ]
    }
   ],
   "source": [
    "# CUAL ES LA SALIDA\n",
    "side = int(input(\"Ingrese un valor entero:\"))\n",
    "for x in list(range(side)) + list(reversed(range(side-1))) + list(range(side)):\n",
    "    print('{: <{w1}}{:*<{w2}}'.format('', '', w1=side-x-1, w2=x*2+1))\n",
    "    "
   ]
  },
  {
   "cell_type": "code",
   "execution_count": null,
   "metadata": {},
   "outputs": [],
   "source": []
  }
 ],
 "metadata": {
  "kernelspec": {
   "display_name": "Python 3",
   "language": "python",
   "name": "python3"
  },
  "language_info": {
   "codemirror_mode": {
    "name": "ipython",
    "version": 3
   },
   "file_extension": ".py",
   "mimetype": "text/x-python",
   "name": "python",
   "nbconvert_exporter": "python",
   "pygments_lexer": "ipython3",
   "version": "3.6.4"
  }
 },
 "nbformat": 4,
 "nbformat_minor": 2
}
